{
 "cells": [
  {
   "cell_type": "code",
   "execution_count": 1,
   "metadata": {
    "_cell_guid": "b1076dfc-b9ad-4769-8c92-a6c4dae69d19",
    "_uuid": "8f2839f25d086af736a60e9eeb907d3b93b6e0e5",
    "execution": {
     "iopub.execute_input": "2023-04-22T13:51:56.171536Z",
     "iopub.status.busy": "2023-04-22T13:51:56.171122Z",
     "iopub.status.idle": "2023-04-22T13:51:56.194331Z",
     "shell.execute_reply": "2023-04-22T13:51:56.192966Z",
     "shell.execute_reply.started": "2023-04-22T13:51:56.171487Z"
    }
   },
   "outputs": [],
   "source": [
    "import pandas as pd\n",
    "import matplotlib.pyplot as plt\n",
    "%matplotlib inline\n",
    "\n"
   ]
  },
  {
   "cell_type": "code",
   "execution_count": 2,
   "metadata": {
    "execution": {
     "iopub.execute_input": "2023-04-22T13:51:56.197149Z",
     "iopub.status.busy": "2023-04-22T13:51:56.196645Z",
     "iopub.status.idle": "2023-04-22T13:51:56.220590Z",
     "shell.execute_reply": "2023-04-22T13:51:56.219147Z",
     "shell.execute_reply.started": "2023-04-22T13:51:56.197097Z"
    }
   },
   "outputs": [],
   "source": [
    "df = pd.read_csv(\"E:\\\\ML\\\\marital status.csv\")"
   ]
  },
  {
   "cell_type": "code",
   "execution_count": 3,
   "metadata": {
    "execution": {
     "iopub.execute_input": "2023-04-22T13:51:56.223236Z",
     "iopub.status.busy": "2023-04-22T13:51:56.222571Z",
     "iopub.status.idle": "2023-04-22T13:51:56.256442Z",
     "shell.execute_reply": "2023-04-22T13:51:56.255133Z",
     "shell.execute_reply.started": "2023-04-22T13:51:56.223195Z"
    }
   },
   "outputs": [
    {
     "data": {
      "text/html": [
       "<div>\n",
       "<style scoped>\n",
       "    .dataframe tbody tr th:only-of-type {\n",
       "        vertical-align: middle;\n",
       "    }\n",
       "\n",
       "    .dataframe tbody tr th {\n",
       "        vertical-align: top;\n",
       "    }\n",
       "\n",
       "    .dataframe thead th {\n",
       "        text-align: right;\n",
       "    }\n",
       "</style>\n",
       "<table border=\"1\" class=\"dataframe\">\n",
       "  <thead>\n",
       "    <tr style=\"text-align: right;\">\n",
       "      <th></th>\n",
       "      <th>age</th>\n",
       "      <th>status</th>\n",
       "    </tr>\n",
       "  </thead>\n",
       "  <tbody>\n",
       "    <tr>\n",
       "      <th>0</th>\n",
       "      <td>21</td>\n",
       "      <td>0.0</td>\n",
       "    </tr>\n",
       "    <tr>\n",
       "      <th>1</th>\n",
       "      <td>33</td>\n",
       "      <td>1.0</td>\n",
       "    </tr>\n",
       "    <tr>\n",
       "      <th>2</th>\n",
       "      <td>24</td>\n",
       "      <td>0.0</td>\n",
       "    </tr>\n",
       "    <tr>\n",
       "      <th>3</th>\n",
       "      <td>28</td>\n",
       "      <td>1.0</td>\n",
       "    </tr>\n",
       "    <tr>\n",
       "      <th>4</th>\n",
       "      <td>17</td>\n",
       "      <td>0.0</td>\n",
       "    </tr>\n",
       "    <tr>\n",
       "      <th>5</th>\n",
       "      <td>33</td>\n",
       "      <td>1.0</td>\n",
       "    </tr>\n",
       "    <tr>\n",
       "      <th>6</th>\n",
       "      <td>23</td>\n",
       "      <td>0.0</td>\n",
       "    </tr>\n",
       "    <tr>\n",
       "      <th>7</th>\n",
       "      <td>30</td>\n",
       "      <td>0.0</td>\n",
       "    </tr>\n",
       "    <tr>\n",
       "      <th>8</th>\n",
       "      <td>29</td>\n",
       "      <td>1.0</td>\n",
       "    </tr>\n",
       "    <tr>\n",
       "      <th>9</th>\n",
       "      <td>22</td>\n",
       "      <td>0.0</td>\n",
       "    </tr>\n",
       "    <tr>\n",
       "      <th>10</th>\n",
       "      <td>26</td>\n",
       "      <td>1.0</td>\n",
       "    </tr>\n",
       "    <tr>\n",
       "      <th>11</th>\n",
       "      <td>20</td>\n",
       "      <td>0.0</td>\n",
       "    </tr>\n",
       "    <tr>\n",
       "      <th>12</th>\n",
       "      <td>22</td>\n",
       "      <td>0.0</td>\n",
       "    </tr>\n",
       "    <tr>\n",
       "      <th>13</th>\n",
       "      <td>24</td>\n",
       "      <td>NaN</td>\n",
       "    </tr>\n",
       "    <tr>\n",
       "      <th>14</th>\n",
       "      <td>34</td>\n",
       "      <td>1.0</td>\n",
       "    </tr>\n",
       "    <tr>\n",
       "      <th>15</th>\n",
       "      <td>29</td>\n",
       "      <td>1.0</td>\n",
       "    </tr>\n",
       "    <tr>\n",
       "      <th>16</th>\n",
       "      <td>16</td>\n",
       "      <td>0.0</td>\n",
       "    </tr>\n",
       "    <tr>\n",
       "      <th>17</th>\n",
       "      <td>18</td>\n",
       "      <td>0.0</td>\n",
       "    </tr>\n",
       "    <tr>\n",
       "      <th>18</th>\n",
       "      <td>26</td>\n",
       "      <td>1.0</td>\n",
       "    </tr>\n",
       "    <tr>\n",
       "      <th>19</th>\n",
       "      <td>25</td>\n",
       "      <td>1.0</td>\n",
       "    </tr>\n",
       "  </tbody>\n",
       "</table>\n",
       "</div>"
      ],
      "text/plain": [
       "    age  status\n",
       "0    21     0.0\n",
       "1    33     1.0\n",
       "2    24     0.0\n",
       "3    28     1.0\n",
       "4    17     0.0\n",
       "5    33     1.0\n",
       "6    23     0.0\n",
       "7    30     0.0\n",
       "8    29     1.0\n",
       "9    22     0.0\n",
       "10   26     1.0\n",
       "11   20     0.0\n",
       "12   22     0.0\n",
       "13   24     NaN\n",
       "14   34     1.0\n",
       "15   29     1.0\n",
       "16   16     0.0\n",
       "17   18     0.0\n",
       "18   26     1.0\n",
       "19   25     1.0"
      ]
     },
     "execution_count": 3,
     "metadata": {},
     "output_type": "execute_result"
    }
   ],
   "source": [
    "df"
   ]
  },
  {
   "cell_type": "code",
   "execution_count": 4,
   "metadata": {
    "execution": {
     "iopub.execute_input": "2023-04-22T13:51:56.259300Z",
     "iopub.status.busy": "2023-04-22T13:51:56.258088Z",
     "iopub.status.idle": "2023-04-22T13:51:56.270262Z",
     "shell.execute_reply": "2023-04-22T13:51:56.269033Z",
     "shell.execute_reply.started": "2023-04-22T13:51:56.259243Z"
    }
   },
   "outputs": [
    {
     "data": {
      "text/plain": [
       "age       0\n",
       "status    1\n",
       "dtype: int64"
      ]
     },
     "execution_count": 4,
     "metadata": {},
     "output_type": "execute_result"
    }
   ],
   "source": [
    "df.isnull().sum()"
   ]
  },
  {
   "cell_type": "code",
   "execution_count": 5,
   "metadata": {
    "execution": {
     "iopub.execute_input": "2023-04-22T13:51:56.273764Z",
     "iopub.status.busy": "2023-04-22T13:51:56.273227Z",
     "iopub.status.idle": "2023-04-22T13:51:56.286141Z",
     "shell.execute_reply": "2023-04-22T13:51:56.284874Z",
     "shell.execute_reply.started": "2023-04-22T13:51:56.273723Z"
    }
   },
   "outputs": [
    {
     "data": {
      "text/plain": [
       "0.0"
      ]
     },
     "execution_count": 5,
     "metadata": {},
     "output_type": "execute_result"
    }
   ],
   "source": [
    "handle = df['status'].median()\n",
    "handle"
   ]
  },
  {
   "cell_type": "code",
   "execution_count": 8,
   "metadata": {
    "execution": {
     "iopub.execute_input": "2023-04-22T13:51:56.288425Z",
     "iopub.status.busy": "2023-04-22T13:51:56.287618Z",
     "iopub.status.idle": "2023-04-22T13:51:56.304188Z",
     "shell.execute_reply": "2023-04-22T13:51:56.302974Z",
     "shell.execute_reply.started": "2023-04-22T13:51:56.288383Z"
    }
   },
   "outputs": [
    {
     "data": {
      "text/html": [
       "<div>\n",
       "<style scoped>\n",
       "    .dataframe tbody tr th:only-of-type {\n",
       "        vertical-align: middle;\n",
       "    }\n",
       "\n",
       "    .dataframe tbody tr th {\n",
       "        vertical-align: top;\n",
       "    }\n",
       "\n",
       "    .dataframe thead th {\n",
       "        text-align: right;\n",
       "    }\n",
       "</style>\n",
       "<table border=\"1\" class=\"dataframe\">\n",
       "  <thead>\n",
       "    <tr style=\"text-align: right;\">\n",
       "      <th></th>\n",
       "      <th>age</th>\n",
       "      <th>status</th>\n",
       "    </tr>\n",
       "  </thead>\n",
       "  <tbody>\n",
       "    <tr>\n",
       "      <th>0</th>\n",
       "      <td>21</td>\n",
       "      <td>0.0</td>\n",
       "    </tr>\n",
       "    <tr>\n",
       "      <th>1</th>\n",
       "      <td>33</td>\n",
       "      <td>1.0</td>\n",
       "    </tr>\n",
       "    <tr>\n",
       "      <th>2</th>\n",
       "      <td>24</td>\n",
       "      <td>0.0</td>\n",
       "    </tr>\n",
       "    <tr>\n",
       "      <th>3</th>\n",
       "      <td>28</td>\n",
       "      <td>1.0</td>\n",
       "    </tr>\n",
       "    <tr>\n",
       "      <th>4</th>\n",
       "      <td>17</td>\n",
       "      <td>0.0</td>\n",
       "    </tr>\n",
       "    <tr>\n",
       "      <th>5</th>\n",
       "      <td>33</td>\n",
       "      <td>1.0</td>\n",
       "    </tr>\n",
       "    <tr>\n",
       "      <th>6</th>\n",
       "      <td>23</td>\n",
       "      <td>0.0</td>\n",
       "    </tr>\n",
       "    <tr>\n",
       "      <th>7</th>\n",
       "      <td>30</td>\n",
       "      <td>0.0</td>\n",
       "    </tr>\n",
       "    <tr>\n",
       "      <th>8</th>\n",
       "      <td>29</td>\n",
       "      <td>1.0</td>\n",
       "    </tr>\n",
       "    <tr>\n",
       "      <th>9</th>\n",
       "      <td>22</td>\n",
       "      <td>0.0</td>\n",
       "    </tr>\n",
       "    <tr>\n",
       "      <th>10</th>\n",
       "      <td>26</td>\n",
       "      <td>1.0</td>\n",
       "    </tr>\n",
       "    <tr>\n",
       "      <th>11</th>\n",
       "      <td>20</td>\n",
       "      <td>0.0</td>\n",
       "    </tr>\n",
       "    <tr>\n",
       "      <th>12</th>\n",
       "      <td>22</td>\n",
       "      <td>0.0</td>\n",
       "    </tr>\n",
       "    <tr>\n",
       "      <th>13</th>\n",
       "      <td>24</td>\n",
       "      <td>0.0</td>\n",
       "    </tr>\n",
       "    <tr>\n",
       "      <th>14</th>\n",
       "      <td>34</td>\n",
       "      <td>1.0</td>\n",
       "    </tr>\n",
       "    <tr>\n",
       "      <th>15</th>\n",
       "      <td>29</td>\n",
       "      <td>1.0</td>\n",
       "    </tr>\n",
       "    <tr>\n",
       "      <th>16</th>\n",
       "      <td>16</td>\n",
       "      <td>0.0</td>\n",
       "    </tr>\n",
       "    <tr>\n",
       "      <th>17</th>\n",
       "      <td>18</td>\n",
       "      <td>0.0</td>\n",
       "    </tr>\n",
       "    <tr>\n",
       "      <th>18</th>\n",
       "      <td>26</td>\n",
       "      <td>1.0</td>\n",
       "    </tr>\n",
       "    <tr>\n",
       "      <th>19</th>\n",
       "      <td>25</td>\n",
       "      <td>1.0</td>\n",
       "    </tr>\n",
       "  </tbody>\n",
       "</table>\n",
       "</div>"
      ],
      "text/plain": [
       "    age  status\n",
       "0    21     0.0\n",
       "1    33     1.0\n",
       "2    24     0.0\n",
       "3    28     1.0\n",
       "4    17     0.0\n",
       "5    33     1.0\n",
       "6    23     0.0\n",
       "7    30     0.0\n",
       "8    29     1.0\n",
       "9    22     0.0\n",
       "10   26     1.0\n",
       "11   20     0.0\n",
       "12   22     0.0\n",
       "13   24     0.0\n",
       "14   34     1.0\n",
       "15   29     1.0\n",
       "16   16     0.0\n",
       "17   18     0.0\n",
       "18   26     1.0\n",
       "19   25     1.0"
      ]
     },
     "execution_count": 8,
     "metadata": {},
     "output_type": "execute_result"
    }
   ],
   "source": [
    "df.status = df.status.fillna(handle)\n",
    "df\n"
   ]
  },
  {
   "cell_type": "code",
   "execution_count": 9,
   "metadata": {
    "execution": {
     "iopub.execute_input": "2023-04-22T13:51:56.306360Z",
     "iopub.status.busy": "2023-04-22T13:51:56.305936Z",
     "iopub.status.idle": "2023-04-22T13:51:56.321905Z",
     "shell.execute_reply": "2023-04-22T13:51:56.320565Z",
     "shell.execute_reply.started": "2023-04-22T13:51:56.306326Z"
    }
   },
   "outputs": [
    {
     "data": {
      "text/plain": [
       "0.0    11\n",
       "1.0     9\n",
       "Name: status, dtype: int64"
      ]
     },
     "execution_count": 9,
     "metadata": {},
     "output_type": "execute_result"
    }
   ],
   "source": [
    "df['status'].value_counts()\n",
    "    \n"
   ]
  },
  {
   "cell_type": "code",
   "execution_count": 10,
   "metadata": {
    "execution": {
     "iopub.execute_input": "2023-04-22T13:51:56.324194Z",
     "iopub.status.busy": "2023-04-22T13:51:56.323633Z",
     "iopub.status.idle": "2023-04-22T13:51:56.338898Z",
     "shell.execute_reply": "2023-04-22T13:51:56.337393Z",
     "shell.execute_reply.started": "2023-04-22T13:51:56.324153Z"
    }
   },
   "outputs": [
    {
     "data": {
      "text/html": [
       "<div>\n",
       "<style scoped>\n",
       "    .dataframe tbody tr th:only-of-type {\n",
       "        vertical-align: middle;\n",
       "    }\n",
       "\n",
       "    .dataframe tbody tr th {\n",
       "        vertical-align: top;\n",
       "    }\n",
       "\n",
       "    .dataframe thead th {\n",
       "        text-align: right;\n",
       "    }\n",
       "</style>\n",
       "<table border=\"1\" class=\"dataframe\">\n",
       "  <thead>\n",
       "    <tr style=\"text-align: right;\">\n",
       "      <th></th>\n",
       "      <th>age</th>\n",
       "    </tr>\n",
       "  </thead>\n",
       "  <tbody>\n",
       "    <tr>\n",
       "      <th>0</th>\n",
       "      <td>21</td>\n",
       "    </tr>\n",
       "    <tr>\n",
       "      <th>1</th>\n",
       "      <td>33</td>\n",
       "    </tr>\n",
       "    <tr>\n",
       "      <th>2</th>\n",
       "      <td>24</td>\n",
       "    </tr>\n",
       "    <tr>\n",
       "      <th>3</th>\n",
       "      <td>28</td>\n",
       "    </tr>\n",
       "    <tr>\n",
       "      <th>4</th>\n",
       "      <td>17</td>\n",
       "    </tr>\n",
       "    <tr>\n",
       "      <th>5</th>\n",
       "      <td>33</td>\n",
       "    </tr>\n",
       "    <tr>\n",
       "      <th>6</th>\n",
       "      <td>23</td>\n",
       "    </tr>\n",
       "    <tr>\n",
       "      <th>7</th>\n",
       "      <td>30</td>\n",
       "    </tr>\n",
       "    <tr>\n",
       "      <th>8</th>\n",
       "      <td>29</td>\n",
       "    </tr>\n",
       "    <tr>\n",
       "      <th>9</th>\n",
       "      <td>22</td>\n",
       "    </tr>\n",
       "    <tr>\n",
       "      <th>10</th>\n",
       "      <td>26</td>\n",
       "    </tr>\n",
       "    <tr>\n",
       "      <th>11</th>\n",
       "      <td>20</td>\n",
       "    </tr>\n",
       "    <tr>\n",
       "      <th>12</th>\n",
       "      <td>22</td>\n",
       "    </tr>\n",
       "    <tr>\n",
       "      <th>13</th>\n",
       "      <td>24</td>\n",
       "    </tr>\n",
       "    <tr>\n",
       "      <th>14</th>\n",
       "      <td>34</td>\n",
       "    </tr>\n",
       "    <tr>\n",
       "      <th>15</th>\n",
       "      <td>29</td>\n",
       "    </tr>\n",
       "    <tr>\n",
       "      <th>16</th>\n",
       "      <td>16</td>\n",
       "    </tr>\n",
       "    <tr>\n",
       "      <th>17</th>\n",
       "      <td>18</td>\n",
       "    </tr>\n",
       "    <tr>\n",
       "      <th>18</th>\n",
       "      <td>26</td>\n",
       "    </tr>\n",
       "    <tr>\n",
       "      <th>19</th>\n",
       "      <td>25</td>\n",
       "    </tr>\n",
       "  </tbody>\n",
       "</table>\n",
       "</div>"
      ],
      "text/plain": [
       "    age\n",
       "0    21\n",
       "1    33\n",
       "2    24\n",
       "3    28\n",
       "4    17\n",
       "5    33\n",
       "6    23\n",
       "7    30\n",
       "8    29\n",
       "9    22\n",
       "10   26\n",
       "11   20\n",
       "12   22\n",
       "13   24\n",
       "14   34\n",
       "15   29\n",
       "16   16\n",
       "17   18\n",
       "18   26\n",
       "19   25"
      ]
     },
     "execution_count": 10,
     "metadata": {},
     "output_type": "execute_result"
    }
   ],
   "source": [
    "x = df[['age']]\n",
    "x"
   ]
  },
  {
   "cell_type": "code",
   "execution_count": 11,
   "metadata": {
    "execution": {
     "iopub.execute_input": "2023-04-22T13:51:56.341273Z",
     "iopub.status.busy": "2023-04-22T13:51:56.340624Z",
     "iopub.status.idle": "2023-04-22T13:51:56.350960Z",
     "shell.execute_reply": "2023-04-22T13:51:56.349750Z",
     "shell.execute_reply.started": "2023-04-22T13:51:56.341227Z"
    }
   },
   "outputs": [
    {
     "data": {
      "text/plain": [
       "0     0.0\n",
       "1     1.0\n",
       "2     0.0\n",
       "3     1.0\n",
       "4     0.0\n",
       "5     1.0\n",
       "6     0.0\n",
       "7     0.0\n",
       "8     1.0\n",
       "9     0.0\n",
       "10    1.0\n",
       "11    0.0\n",
       "12    0.0\n",
       "13    0.0\n",
       "14    1.0\n",
       "15    1.0\n",
       "16    0.0\n",
       "17    0.0\n",
       "18    1.0\n",
       "19    1.0\n",
       "Name: status, dtype: float64"
      ]
     },
     "execution_count": 11,
     "metadata": {},
     "output_type": "execute_result"
    }
   ],
   "source": [
    "y = df['status']\n",
    "y"
   ]
  },
  {
   "cell_type": "code",
   "execution_count": 12,
   "metadata": {
    "execution": {
     "iopub.execute_input": "2023-04-22T13:51:56.353598Z",
     "iopub.status.busy": "2023-04-22T13:51:56.352666Z",
     "iopub.status.idle": "2023-04-22T13:51:56.701509Z",
     "shell.execute_reply": "2023-04-22T13:51:56.700570Z",
     "shell.execute_reply.started": "2023-04-22T13:51:56.353547Z"
    }
   },
   "outputs": [
    {
     "data": {
      "text/html": [
       "<div>\n",
       "<style scoped>\n",
       "    .dataframe tbody tr th:only-of-type {\n",
       "        vertical-align: middle;\n",
       "    }\n",
       "\n",
       "    .dataframe tbody tr th {\n",
       "        vertical-align: top;\n",
       "    }\n",
       "\n",
       "    .dataframe thead th {\n",
       "        text-align: right;\n",
       "    }\n",
       "</style>\n",
       "<table border=\"1\" class=\"dataframe\">\n",
       "  <thead>\n",
       "    <tr style=\"text-align: right;\">\n",
       "      <th></th>\n",
       "      <th>age</th>\n",
       "    </tr>\n",
       "  </thead>\n",
       "  <tbody>\n",
       "    <tr>\n",
       "      <th>3</th>\n",
       "      <td>28</td>\n",
       "    </tr>\n",
       "    <tr>\n",
       "      <th>16</th>\n",
       "      <td>16</td>\n",
       "    </tr>\n",
       "    <tr>\n",
       "      <th>6</th>\n",
       "      <td>23</td>\n",
       "    </tr>\n",
       "    <tr>\n",
       "      <th>10</th>\n",
       "      <td>26</td>\n",
       "    </tr>\n",
       "    <tr>\n",
       "      <th>2</th>\n",
       "      <td>24</td>\n",
       "    </tr>\n",
       "    <tr>\n",
       "      <th>14</th>\n",
       "      <td>34</td>\n",
       "    </tr>\n",
       "  </tbody>\n",
       "</table>\n",
       "</div>"
      ],
      "text/plain": [
       "    age\n",
       "3    28\n",
       "16   16\n",
       "6    23\n",
       "10   26\n",
       "2    24\n",
       "14   34"
      ]
     },
     "execution_count": 12,
     "metadata": {},
     "output_type": "execute_result"
    }
   ],
   "source": [
    "from sklearn.model_selection import train_test_split\n",
    "xtrain,xtest,ytrain,ytest = train_test_split(x,y,test_size= 0.3,random_state = 1)\n",
    "xtest\n",
    "\n"
   ]
  },
  {
   "cell_type": "code",
   "execution_count": 13,
   "metadata": {
    "execution": {
     "iopub.execute_input": "2023-04-22T13:51:56.704704Z",
     "iopub.status.busy": "2023-04-22T13:51:56.703986Z",
     "iopub.status.idle": "2023-04-22T13:51:56.713694Z",
     "shell.execute_reply": "2023-04-22T13:51:56.712071Z",
     "shell.execute_reply.started": "2023-04-22T13:51:56.704665Z"
    }
   },
   "outputs": [
    {
     "data": {
      "text/plain": [
       "3     1.0\n",
       "16    0.0\n",
       "6     0.0\n",
       "10    1.0\n",
       "2     0.0\n",
       "14    1.0\n",
       "Name: status, dtype: float64"
      ]
     },
     "execution_count": 13,
     "metadata": {},
     "output_type": "execute_result"
    }
   ],
   "source": [
    "ytest"
   ]
  },
  {
   "cell_type": "code",
   "execution_count": 14,
   "metadata": {
    "execution": {
     "iopub.execute_input": "2023-04-22T13:51:56.716404Z",
     "iopub.status.busy": "2023-04-22T13:51:56.715887Z",
     "iopub.status.idle": "2023-04-22T13:51:56.760863Z",
     "shell.execute_reply": "2023-04-22T13:51:56.759623Z",
     "shell.execute_reply.started": "2023-04-22T13:51:56.716346Z"
    }
   },
   "outputs": [
    {
     "data": {
      "text/plain": [
       "LogisticRegression()"
      ]
     },
     "execution_count": 14,
     "metadata": {},
     "output_type": "execute_result"
    }
   ],
   "source": [
    "from sklearn.linear_model import LogisticRegression\n",
    "\n",
    "model =  LogisticRegression()\n",
    "model.fit(xtrain,ytrain)\n"
   ]
  },
  {
   "cell_type": "code",
   "execution_count": 15,
   "metadata": {
    "execution": {
     "iopub.execute_input": "2023-04-22T13:51:56.762852Z",
     "iopub.status.busy": "2023-04-22T13:51:56.762450Z",
     "iopub.status.idle": "2023-04-22T13:51:56.773608Z",
     "shell.execute_reply": "2023-04-22T13:51:56.772058Z",
     "shell.execute_reply.started": "2023-04-22T13:51:56.762815Z"
    }
   },
   "outputs": [
    {
     "data": {
      "text/plain": [
       "array([1., 0., 0., 0., 0., 1.])"
      ]
     },
     "execution_count": 15,
     "metadata": {},
     "output_type": "execute_result"
    }
   ],
   "source": [
    "model.predict(xtest)"
   ]
  },
  {
   "cell_type": "code",
   "execution_count": 16,
   "metadata": {
    "execution": {
     "iopub.execute_input": "2023-04-22T13:51:56.775294Z",
     "iopub.status.busy": "2023-04-22T13:51:56.774956Z",
     "iopub.status.idle": "2023-04-22T13:51:56.788269Z",
     "shell.execute_reply": "2023-04-22T13:51:56.786581Z",
     "shell.execute_reply.started": "2023-04-22T13:51:56.775258Z"
    }
   },
   "outputs": [
    {
     "data": {
      "text/plain": [
       "0.8333333333333334"
      ]
     },
     "execution_count": 16,
     "metadata": {},
     "output_type": "execute_result"
    }
   ],
   "source": [
    "#Output for Logistic Regression\n",
    "model.score(xtest,ytest)\n"
   ]
  },
  {
   "cell_type": "code",
   "execution_count": 17,
   "metadata": {
    "execution": {
     "iopub.execute_input": "2023-04-22T13:51:56.791151Z",
     "iopub.status.busy": "2023-04-22T13:51:56.790564Z",
     "iopub.status.idle": "2023-04-22T13:51:56.802514Z",
     "shell.execute_reply": "2023-04-22T13:51:56.801016Z",
     "shell.execute_reply.started": "2023-04-22T13:51:56.791091Z"
    }
   },
   "outputs": [
    {
     "data": {
      "text/plain": [
       "array([[0.28697051, 0.71302949],\n",
       "       [0.9902967 , 0.0097033 ],\n",
       "       [0.80161052, 0.19838948],\n",
       "       [0.50311753, 0.49688247],\n",
       "       [0.71810555, 0.28189445],\n",
       "       [0.02465085, 0.97534915]])"
      ]
     },
     "execution_count": 17,
     "metadata": {},
     "output_type": "execute_result"
    }
   ],
   "source": [
    "#Output for Sigmoid\n",
    "model.predict_proba(xtest)"
   ]
  },
  {
   "cell_type": "markdown",
   "metadata": {},
   "source": [
    "Predicting by taking new input"
   ]
  },
  {
   "cell_type": "code",
   "execution_count": 18,
   "metadata": {
    "execution": {
     "iopub.execute_input": "2023-04-22T13:51:56.804885Z",
     "iopub.status.busy": "2023-04-22T13:51:56.804374Z",
     "iopub.status.idle": "2023-04-22T13:52:03.853316Z",
     "shell.execute_reply": "2023-04-22T13:52:03.852374Z",
     "shell.execute_reply.started": "2023-04-22T13:51:56.804835Z"
    }
   },
   "outputs": [
    {
     "name": "stdin",
     "output_type": "stream",
     "text": [
      "Enter Age: 28\n"
     ]
    },
    {
     "name": "stdout",
     "output_type": "stream",
     "text": [
      "[['28']] [1.]\n",
      "This Guy is Married\n"
     ]
    },
    {
     "name": "stderr",
     "output_type": "stream",
     "text": [
      "/opt/conda/lib/python3.7/site-packages/sklearn/base.py:451: UserWarning: X does not have valid feature names, but LogisticRegression was fitted with feature names\n",
      "  \"X does not have valid feature names, but\"\n",
      "/opt/conda/lib/python3.7/site-packages/sklearn/base.py:566: FutureWarning: Arrays of bytes/strings is being converted to decimal numbers if dtype='numeric'. This behavior is deprecated in 0.24 and will be removed in 1.1 (renaming of 0.26). Please convert your data to numeric values explicitly instead.\n",
      "  X = check_array(X, **check_params)\n"
     ]
    }
   ],
   "source": [
    "value = input(\"Enter Age:\")\n",
    "\n",
    "new_input = [[value]]\n",
    "new_output = model.predict(new_input)\n",
    "print(new_input, new_output)\n",
    "if(new_output==1):\n",
    "    print(\"This Guy is Married\")\n",
    "else:\n",
    "    print(\"This Guy is Married\")\n",
    "    "
   ]
  },
  {
   "cell_type": "code",
   "execution_count": null,
   "metadata": {},
   "outputs": [],
   "source": []
  }
 ],
 "metadata": {
  "kernelspec": {
   "display_name": "Python 3 (ipykernel)",
   "language": "python",
   "name": "python3"
  },
  "language_info": {
   "codemirror_mode": {
    "name": "ipython",
    "version": 3
   },
   "file_extension": ".py",
   "mimetype": "text/x-python",
   "name": "python",
   "nbconvert_exporter": "python",
   "pygments_lexer": "ipython3",
   "version": "3.9.13"
  }
 },
 "nbformat": 4,
 "nbformat_minor": 4
}
